from stl import mesh
import glob
import pandas as pd
import os


path="./Data/" # Data dir input

files = glob.glob(path+'/**/*.stl', recursive=True)

data = pd.DataFrame(columns=['Vpn','Area[cm²]'])

for i in files:
    vpn=os.path.splitext(os.path.basename(i))[0]
    file=mesh.Mesh.from_file(i)
    surface_area=file.areas.sum()/100
    idx = int(vpn.replace("VPN",""))

    data.at[idx,'Vpn']= vpn
    data.at[idx,'Area[cm²]']= surface_area

data.sort_index(axis=0).to_excel(path+"output_10-01-2022.xlsx")
