{
 "cells": [
  {
   "cell_type": "code",
   "execution_count": 8,
   "metadata": {},
   "outputs": [],
   "source": [
    "from stl import mesh\n",
    "import glob\n",
    "import pandas as pd\n",
    "import os\n",
    "\n",
    "\n",
    "path=\"./Data/\" # Data dir input\n",
    "\n",
    "files = glob.glob(path+'/**/*.stl', recursive=True)\n",
    "\n",
    "data = pd.DataFrame(columns=['Vpn','Area[cm²]'])"
   ]
  },
  {
   "cell_type": "code",
   "execution_count": 9,
   "metadata": {},
   "outputs": [],
   "source": [
    "for i in files:\n",
    "    vpn=os.path.splitext(os.path.basename(i))[0]\n",
    "    file=mesh.Mesh.from_file(i)\n",
    "    surface_area=file.areas.sum()/100\n",
    "    idx = int(vpn.replace(\"VPN\",\"\"))\n",
    "\n",
    "    data.at[idx,'Vpn']= vpn\n",
    "    data.at[idx,'Area[cm²]']= surface_area"
   ]
  },
  {
   "cell_type": "code",
   "execution_count": 11,
   "metadata": {},
   "outputs": [],
   "source": [
    "data.sort_index(axis=0).to_excel(path+\"output_10-01-2022.xlsx\")"
   ]
  }
 ],
 "metadata": {
  "kernelspec": {
   "display_name": "Python 3",
   "language": "python",
   "name": "python3"
  },
  "language_info": {
   "codemirror_mode": {
    "name": "ipython",
    "version": 3
   },
   "file_extension": ".py",
   "mimetype": "text/x-python",
   "name": "python",
   "nbconvert_exporter": "python",
   "pygments_lexer": "ipython3",
   "version": "3.8.6"
  }
 },
 "nbformat": 4,
 "nbformat_minor": 4
}
